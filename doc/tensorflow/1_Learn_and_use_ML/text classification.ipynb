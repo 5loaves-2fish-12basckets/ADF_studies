{
 "cells": [
  {
   "cell_type": "code",
   "execution_count": 1,
   "metadata": {},
   "outputs": [
    {
     "name": "stdout",
     "output_type": "stream",
     "text": [
      "1.12.0\n"
     ]
    }
   ],
   "source": [
    "import tensorflow as tf\n",
    "from tensorflow import keras\n",
    "import numpy as np\n",
    "print(tf.__version__)"
   ]
  },
  {
   "cell_type": "code",
   "execution_count": 2,
   "metadata": {},
   "outputs": [
    {
     "name": "stdout",
     "output_type": "stream",
     "text": [
      "Downloading data from https://storage.googleapis.com/tensorflow/tf-keras-datasets/imdb.npz\n",
      "17465344/17464789 [==============================] - 1s 0us/step\n"
     ]
    }
   ],
   "source": [
    "imdb = keras.datasets.imdb\n",
    "(train_data, train_labels), (test_data, test_labels) = imdb.load_data(num_words=10000)"
   ]
  },
  {
   "cell_type": "code",
   "execution_count": 3,
   "metadata": {},
   "outputs": [
    {
     "name": "stdout",
     "output_type": "stream",
     "text": [
      "Training entries: 25000, labels: 25000\n"
     ]
    }
   ],
   "source": [
    "print(\"Training entries: {}, labels: {}\".format(len(train_data), len(train_labels)))"
   ]
  },
  {
   "cell_type": "code",
   "execution_count": 4,
   "metadata": {},
   "outputs": [
    {
     "name": "stdout",
     "output_type": "stream",
     "text": [
      "[1, 14, 22, 16, 43, 530, 973, 1622, 1385, 65, 458, 4468, 66, 3941, 4, 173, 36, 256, 5, 25, 100, 43, 838, 112, 50, 670, 2, 9, 35, 480, 284, 5, 150, 4, 172, 112, 167, 2, 336, 385, 39, 4, 172, 4536, 1111, 17, 546, 38, 13, 447, 4, 192, 50, 16, 6, 147, 2025, 19, 14, 22, 4, 1920, 4613, 469, 4, 22, 71, 87, 12, 16, 43, 530, 38, 76, 15, 13, 1247, 4, 22, 17, 515, 17, 12, 16, 626, 18, 2, 5, 62, 386, 12, 8, 316, 8, 106, 5, 4, 2223, 5244, 16, 480, 66, 3785, 33, 4, 130, 12, 16, 38, 619, 5, 25, 124, 51, 36, 135, 48, 25, 1415, 33, 6, 22, 12, 215, 28, 77, 52, 5, 14, 407, 16, 82, 2, 8, 4, 107, 117, 5952, 15, 256, 4, 2, 7, 3766, 5, 723, 36, 71, 43, 530, 476, 26, 400, 317, 46, 7, 4, 2, 1029, 13, 104, 88, 4, 381, 15, 297, 98, 32, 2071, 56, 26, 141, 6, 194, 7486, 18, 4, 226, 22, 21, 134, 476, 26, 480, 5, 144, 30, 5535, 18, 51, 36, 28, 224, 92, 25, 104, 4, 226, 65, 16, 38, 1334, 88, 12, 16, 283, 5, 16, 4472, 113, 103, 32, 15, 16, 5345, 19, 178, 32]\n"
     ]
    }
   ],
   "source": [
    "print(train_data[0])"
   ]
  },
  {
   "cell_type": "code",
   "execution_count": 5,
   "metadata": {},
   "outputs": [
    {
     "data": {
      "text/plain": [
       "(218, 189)"
      ]
     },
     "execution_count": 5,
     "metadata": {},
     "output_type": "execute_result"
    }
   ],
   "source": [
    "len(train_data[0]), len(train_data[1])"
   ]
  },
  {
   "cell_type": "code",
   "execution_count": 7,
   "metadata": {},
   "outputs": [
    {
     "name": "stdout",
     "output_type": "stream",
     "text": [
      "Downloading data from https://storage.googleapis.com/tensorflow/tf-keras-datasets/imdb_word_index.json\n",
      "1646592/1641221 [==============================] - 0s 0us/step\n"
     ]
    }
   ],
   "source": [
    "word_index = imdb.get_word_index()\n",
    "word_index = {k:(v+3) for k,v in word_index.items()}\n",
    "word_index[\"<PAD>\"] = 0\n",
    "word_index[\"<START>\"] = 1\n",
    "word_index[\"<UNK>\"] = 2\n",
    "word_index[\"<UNUSED>\"] = 3\n",
    "\n",
    "reverse_word_index = dict([(value, key) for(key,value) in word_index.items()])\n",
    "\n",
    "def decode_review(text):\n",
    "    return '  '.join([reverse_word_index.get(i,'?') for i in text])"
   ]
  },
  {
   "cell_type": "code",
   "execution_count": 8,
   "metadata": {},
   "outputs": [
    {
     "data": {
      "text/plain": [
       "\"<START>  this  film  was  just  brilliant  casting  location  scenery  story  direction  everyone's  really  suited  the  part  they  played  and  you  could  just  imagine  being  there  robert  <UNK>  is  an  amazing  actor  and  now  the  same  being  director  <UNK>  father  came  from  the  same  scottish  island  as  myself  so  i  loved  the  fact  there  was  a  real  connection  with  this  film  the  witty  remarks  throughout  the  film  were  great  it  was  just  brilliant  so  much  that  i  bought  the  film  as  soon  as  it  was  released  for  <UNK>  and  would  recommend  it  to  everyone  to  watch  and  the  fly  fishing  was  amazing  really  cried  at  the  end  it  was  so  sad  and  you  know  what  they  say  if  you  cry  at  a  film  it  must  have  been  good  and  this  definitely  was  also  <UNK>  to  the  two  little  boy's  that  played  the  <UNK>  of  norman  and  paul  they  were  just  brilliant  children  are  often  left  out  of  the  <UNK>  list  i  think  because  the  stars  that  play  them  all  grown  up  are  such  a  big  profile  for  the  whole  film  but  these  children  are  amazing  and  should  be  praised  for  what  they  have  done  don't  you  think  the  whole  story  was  so  lovely  because  it  was  true  and  was  someone's  life  after  all  that  was  shared  with  us  all\""
      ]
     },
     "execution_count": 8,
     "metadata": {},
     "output_type": "execute_result"
    }
   ],
   "source": [
    "decode_review(train_data[0])"
   ]
  },
  {
   "cell_type": "code",
   "execution_count": 26,
   "metadata": {},
   "outputs": [],
   "source": [
    "train_data = keras.preprocessing.sequence.pad_sequences(train_data,\n",
    "                                                       value=word_index[\"<PAD>\"],\n",
    "                                                       padding='post',\n",
    "                                                       maxlen=256)\n",
    "test_data = keras.preprocessing.sequence.pad_sequences(test_data,\n",
    "                                                      value=word_index[\"<PAD>\"],\n",
    "                                                      padding='post',\n",
    "                                                      maxlen=256)"
   ]
  },
  {
   "cell_type": "code",
   "execution_count": 29,
   "metadata": {},
   "outputs": [
    {
     "data": {
      "text/plain": [
       "88588"
      ]
     },
     "execution_count": 29,
     "metadata": {},
     "output_type": "execute_result"
    }
   ],
   "source": [
    "len(reverse_word_index)"
   ]
  },
  {
   "cell_type": "code",
   "execution_count": 31,
   "metadata": {},
   "outputs": [
    {
     "name": "stdout",
     "output_type": "stream",
     "text": [
      "_________________________________________________________________\n",
      "Layer (type)                 Output Shape              Param #   \n",
      "=================================================================\n",
      "embedding_1 (Embedding)      (None, None, 16)          160000    \n",
      "_________________________________________________________________\n",
      "global_average_pooling1d_1 ( (None, 16)                0         \n",
      "_________________________________________________________________\n",
      "dense_1 (Dense)              (None, 16)                272       \n",
      "_________________________________________________________________\n",
      "dense_2 (Dense)              (None, 1)                 17        \n",
      "=================================================================\n",
      "Total params: 160,289\n",
      "Trainable params: 160,289\n",
      "Non-trainable params: 0\n",
      "_________________________________________________________________\n"
     ]
    }
   ],
   "source": [
    "vocab_size = 10000 #guessed? full embedding size 88588\n",
    "model = keras.Sequential()\n",
    "model.add(keras.layers.Embedding(vocab_size, 16))\n",
    "model.add(keras.layers.GlobalAveragePooling1D())\n",
    "model.add(keras.layers.Dense(16, activation=tf.nn.relu))\n",
    "model.add(keras.layers.Dense(1,activation=tf.nn.sigmoid))\n",
    "model.summary()"
   ]
  },
  {
   "cell_type": "code",
   "execution_count": 32,
   "metadata": {
    "collapsed": true
   },
   "outputs": [],
   "source": [
    "model.compile(optimizer='adam',\n",
    "             loss='binary_crossentropy',\n",
    "             metrics=['accuracy'])"
   ]
  },
  {
   "cell_type": "code",
   "execution_count": 34,
   "metadata": {
    "collapsed": true
   },
   "outputs": [],
   "source": [
    "x_val = train_data[:10000]\n",
    "partial_x_train=train_data[10000:]\n",
    "y_val = train_labels[:10000]\n",
    "partial_y_train=train_labels[10000:]\n"
   ]
  },
  {
   "cell_type": "code",
   "execution_count": 35,
   "metadata": {
    "scrolled": true
   },
   "outputs": [
    {
     "name": "stderr",
     "output_type": "stream",
     "text": [
      "/home/jimmy/anaconda3/envs/tftut/lib/python3.6/site-packages/tensorflow/python/ops/gradients_impl.py:112: UserWarning: Converting sparse IndexedSlices to a dense Tensor of unknown shape. This may consume a large amount of memory.\n",
      "  \"Converting sparse IndexedSlices to a dense Tensor of unknown shape. \"\n"
     ]
    },
    {
     "name": "stdout",
     "output_type": "stream",
     "text": [
      "Train on 15000 samples, validate on 10000 samples\n",
      "Epoch 1/40\n",
      "15000/15000 [==============================] - 1s 90us/step - loss: 0.6910 - acc: 0.5311 - val_loss: 0.6877 - val_acc: 0.5611\n",
      "Epoch 2/40\n",
      "15000/15000 [==============================] - 0s 21us/step - loss: 0.6814 - acc: 0.6337 - val_loss: 0.6752 - val_acc: 0.6814\n",
      "Epoch 3/40\n",
      "15000/15000 [==============================] - 0s 15us/step - loss: 0.6623 - acc: 0.7077 - val_loss: 0.6524 - val_acc: 0.7261\n",
      "Epoch 4/40\n",
      "15000/15000 [==============================] - 0s 15us/step - loss: 0.6315 - acc: 0.7667 - val_loss: 0.6195 - val_acc: 0.7594\n",
      "Epoch 5/40\n",
      "15000/15000 [==============================] - 0s 17us/step - loss: 0.5900 - acc: 0.7995 - val_loss: 0.5773 - val_acc: 0.8028\n",
      "Epoch 6/40\n",
      "15000/15000 [==============================] - 0s 18us/step - loss: 0.5417 - acc: 0.8283 - val_loss: 0.5319 - val_acc: 0.8251\n",
      "Epoch 7/40\n",
      "15000/15000 [==============================] - 0s 16us/step - loss: 0.4912 - acc: 0.8499 - val_loss: 0.4873 - val_acc: 0.8353\n",
      "Epoch 8/40\n",
      "15000/15000 [==============================] - 0s 15us/step - loss: 0.4434 - acc: 0.8643 - val_loss: 0.4472 - val_acc: 0.8465\n",
      "Epoch 9/40\n",
      "15000/15000 [==============================] - 0s 14us/step - loss: 0.4015 - acc: 0.8753 - val_loss: 0.4137 - val_acc: 0.8532\n",
      "Epoch 10/40\n",
      "15000/15000 [==============================] - 0s 23us/step - loss: 0.3651 - acc: 0.8856 - val_loss: 0.3866 - val_acc: 0.8614\n",
      "Epoch 11/40\n",
      "15000/15000 [==============================] - 0s 14us/step - loss: 0.3352 - acc: 0.8937 - val_loss: 0.3668 - val_acc: 0.8640\n",
      "Epoch 12/40\n",
      "15000/15000 [==============================] - 0s 15us/step - loss: 0.3107 - acc: 0.8979 - val_loss: 0.3477 - val_acc: 0.8703\n",
      "Epoch 13/40\n",
      "15000/15000 [==============================] - 0s 23us/step - loss: 0.2881 - acc: 0.9059 - val_loss: 0.3343 - val_acc: 0.8744\n",
      "Epoch 14/40\n",
      "15000/15000 [==============================] - 0s 14us/step - loss: 0.2690 - acc: 0.9121 - val_loss: 0.3227 - val_acc: 0.8772\n",
      "Epoch 15/40\n",
      "15000/15000 [==============================] - 0s 17us/step - loss: 0.2527 - acc: 0.9151 - val_loss: 0.3141 - val_acc: 0.8792\n",
      "Epoch 16/40\n",
      "15000/15000 [==============================] - 0s 19us/step - loss: 0.2387 - acc: 0.9203 - val_loss: 0.3071 - val_acc: 0.8788\n",
      "Epoch 17/40\n",
      "15000/15000 [==============================] - 0s 15us/step - loss: 0.2249 - acc: 0.9258 - val_loss: 0.3012 - val_acc: 0.8814\n",
      "Epoch 18/40\n",
      "15000/15000 [==============================] - 0s 19us/step - loss: 0.2130 - acc: 0.9289 - val_loss: 0.2966 - val_acc: 0.8827\n",
      "Epoch 19/40\n",
      "15000/15000 [==============================] - 0s 17us/step - loss: 0.2019 - acc: 0.9333 - val_loss: 0.2930 - val_acc: 0.8823\n",
      "Epoch 20/40\n",
      "15000/15000 [==============================] - 0s 15us/step - loss: 0.1920 - acc: 0.9373 - val_loss: 0.2902 - val_acc: 0.8839\n",
      "Epoch 21/40\n",
      "15000/15000 [==============================] - 0s 15us/step - loss: 0.1826 - acc: 0.9421 - val_loss: 0.2882 - val_acc: 0.8848\n",
      "Epoch 22/40\n",
      "15000/15000 [==============================] - 0s 20us/step - loss: 0.1737 - acc: 0.9448 - val_loss: 0.2869 - val_acc: 0.8848\n",
      "Epoch 23/40\n",
      "15000/15000 [==============================] - 0s 15us/step - loss: 0.1658 - acc: 0.9483 - val_loss: 0.2870 - val_acc: 0.8853\n",
      "Epoch 24/40\n",
      "15000/15000 [==============================] - 0s 16us/step - loss: 0.1577 - acc: 0.9511 - val_loss: 0.2862 - val_acc: 0.8850\n",
      "Epoch 25/40\n",
      "15000/15000 [==============================] - 0s 15us/step - loss: 0.1508 - acc: 0.9549 - val_loss: 0.2861 - val_acc: 0.8859\n",
      "Epoch 26/40\n",
      "15000/15000 [==============================] - 0s 13us/step - loss: 0.1437 - acc: 0.9568 - val_loss: 0.2874 - val_acc: 0.8864\n",
      "Epoch 27/40\n",
      "15000/15000 [==============================] - 0s 23us/step - loss: 0.1379 - acc: 0.9595 - val_loss: 0.2888 - val_acc: 0.8862\n",
      "Epoch 28/40\n",
      "15000/15000 [==============================] - 0s 14us/step - loss: 0.1317 - acc: 0.9627 - val_loss: 0.2893 - val_acc: 0.8862\n",
      "Epoch 29/40\n",
      "15000/15000 [==============================] - 0s 16us/step - loss: 0.1261 - acc: 0.9631 - val_loss: 0.2910 - val_acc: 0.8860\n",
      "Epoch 30/40\n",
      "15000/15000 [==============================] - 0s 23us/step - loss: 0.1211 - acc: 0.9659 - val_loss: 0.2925 - val_acc: 0.8858\n",
      "Epoch 31/40\n",
      "15000/15000 [==============================] - 0s 14us/step - loss: 0.1153 - acc: 0.9679 - val_loss: 0.2952 - val_acc: 0.8845\n",
      "Epoch 32/40\n",
      "15000/15000 [==============================] - 0s 20us/step - loss: 0.1108 - acc: 0.9692 - val_loss: 0.2978 - val_acc: 0.8844\n",
      "Epoch 33/40\n",
      "15000/15000 [==============================] - 0s 16us/step - loss: 0.1055 - acc: 0.9719 - val_loss: 0.3008 - val_acc: 0.8837\n",
      "Epoch 34/40\n",
      "15000/15000 [==============================] - 0s 15us/step - loss: 0.1012 - acc: 0.9729 - val_loss: 0.3041 - val_acc: 0.8842\n",
      "Epoch 35/40\n",
      "15000/15000 [==============================] - 0s 22us/step - loss: 0.0972 - acc: 0.9743 - val_loss: 0.3064 - val_acc: 0.8830\n",
      "Epoch 36/40\n",
      "15000/15000 [==============================] - 0s 15us/step - loss: 0.0926 - acc: 0.9766 - val_loss: 0.3100 - val_acc: 0.8819\n",
      "Epoch 37/40\n",
      "15000/15000 [==============================] - 0s 15us/step - loss: 0.0889 - acc: 0.9777 - val_loss: 0.3137 - val_acc: 0.8817\n",
      "Epoch 38/40\n",
      "15000/15000 [==============================] - 0s 15us/step - loss: 0.0855 - acc: 0.9789 - val_loss: 0.3186 - val_acc: 0.8810\n",
      "Epoch 39/40\n",
      "15000/15000 [==============================] - 0s 21us/step - loss: 0.0816 - acc: 0.9808 - val_loss: 0.3215 - val_acc: 0.8806\n",
      "Epoch 40/40\n",
      "15000/15000 [==============================] - 0s 14us/step - loss: 0.0779 - acc: 0.9823 - val_loss: 0.3252 - val_acc: 0.8806\n"
     ]
    }
   ],
   "source": [
    "history=model.fit(partial_x_train,\n",
    "                 partial_y_train,\n",
    "                 epochs=40,\n",
    "                 batch_size=512,\n",
    "                 validation_data=(x_val, y_val),\n",
    "                 verbose=1)"
   ]
  },
  {
   "cell_type": "code",
   "execution_count": 36,
   "metadata": {},
   "outputs": [
    {
     "name": "stdout",
     "output_type": "stream",
     "text": [
      "25000/25000 [==============================] - 2s 72us/step\n",
      "[0.34665423223495484, 0.86928]\n"
     ]
    }
   ],
   "source": [
    "results = model.evaluate(test_data, test_labels)\n",
    "\n",
    "print(results)"
   ]
  },
  {
   "cell_type": "code",
   "execution_count": 37,
   "metadata": {},
   "outputs": [
    {
     "data": {
      "text/plain": [
       "dict_keys(['val_loss', 'val_acc', 'loss', 'acc'])"
      ]
     },
     "execution_count": 37,
     "metadata": {},
     "output_type": "execute_result"
    }
   ],
   "source": [
    "history_dict = history.history\n",
    "history_dict.keys()"
   ]
  },
  {
   "cell_type": "code",
   "execution_count": 39,
   "metadata": {},
   "outputs": [
    {
     "data": {
      "image/png": "[encoded data removed]",
      "text/plain": [
       "<Figure size 432x288 with 1 Axes>"
      ]
     },
     "metadata": {
      "needs_background": "light"
     },
     "output_type": "display_data"
    }
   ],
   "source": [
    "%matplotlib inline\n",
    "import matplotlib.pyplot as plt\n",
    "\n",
    "acc = history_dict['acc']\n",
    "val_acc = history_dict['val_acc']\n",
    "loss = history_dict['loss']\n",
    "val_loss = history_dict['val_loss']\n",
    "\n",
    "epochs = range(1, len(acc) + 1)\n",
    "\n",
    "# \"bo\" is for \"blue dot\"\n",
    "plt.plot(epochs, loss, 'bo', label='Training loss')\n",
    "# b is for \"solid blue line\"\n",
    "plt.plot(epochs, val_loss, 'b', label='Validation loss')\n",
    "plt.title('Training and validation loss')\n",
    "plt.xlabel('Epochs')\n",
    "plt.ylabel('Loss')\n",
    "plt.legend()\n",
    "\n",
    "plt.show()"
   ]
  },
  {
   "cell_type": "code",
   "execution_count": 40,
   "metadata": {},
   "outputs": [
    {
     "data": {
      "image/png": "[encoded data removed]",
      "text/plain": [
       "<Figure size 432x288 with 1 Axes>"
      ]
     },
     "metadata": {
      "needs_background": "light"
     },
     "output_type": "display_data"
    }
   ],
   "source": [
    "plt.clf()   # clear figure\n",
    "\n",
    "plt.plot(epochs, acc, 'bo', label='Training acc')\n",
    "plt.plot(epochs, val_acc, 'b', label='Validation acc')\n",
    "plt.title('Training and validation accuracy')\n",
    "plt.xlabel('Epochs')\n",
    "plt.ylabel('Accuracy')\n",
    "plt.legend()\n",
    "\n",
    "plt.show()"
   ]
  },
  {
   "cell_type": "code",
   "execution_count": null,
   "metadata": {
    "collapsed": true
   },
   "outputs": [],
   "source": []
  }
 ],
 "metadata": {
  "kernelspec": {
   "display_name": "tf tutotial",
   "language": "python",
   "name": "tftut"
  },
  "language_info": {
   "codemirror_mode": {
    "name": "ipython",
    "version": 3
   },
   "file_extension": ".py",
   "mimetype": "text/x-python",
   "name": "python",
   "nbconvert_exporter": "python",
   "pygments_lexer": "ipython3",
   "version": "3.6.8"
  }
 },
 "nbformat": 4,
 "nbformat_minor": 2
}
